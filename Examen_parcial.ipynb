{
  "nbformat": 4,
  "nbformat_minor": 0,
  "metadata": {
    "colab": {
      "name": "Untitled0.ipynb",
      "version": "0.3.2",
      "provenance": [],
      "collapsed_sections": [],
      "include_colab_link": true
    },
    "kernelspec": {
      "name": "python3",
      "display_name": "Python 3"
    }
  },
  "cells": [
    {
      "cell_type": "markdown",
      "metadata": {
        "id": "view-in-github",
        "colab_type": "text"
      },
      "source": [
        "<a href=\"https://colab.research.google.com/github/jcgmz17/UNMSM_programacion2019-1/blob/master/Examen_parcial.ipynb\" target=\"_parent\"><img src=\"https://colab.research.google.com/assets/colab-badge.svg\" alt=\"Open In Colab\"/></a>"
      ]
    },
    {
      "cell_type": "code",
      "metadata": {
        "id": "9uHTu-DNqtci",
        "colab_type": "code",
        "outputId": "8f99c1e5-9622-43c7-917d-c6dfe2cb0e9a",
        "colab": {
          "base_uri": "https://localhost:8080/",
          "height": 34
        }
      },
      "source": [
        "#Devuelva el factorial de un número x\n",
        "def factorial(n):\n",
        "  if n==0 or n==1:\n",
        "    resultado=1\n",
        "  elif n>=1:\n",
        "      resultado=n*factorial(n-1)\n",
        "  return resultado\n",
        "factorial(7)"
      ],
      "execution_count": 117,
      "outputs": [
        {
          "output_type": "execute_result",
          "data": {
            "text/plain": [
              "5040"
            ]
          },
          "metadata": {
            "tags": []
          },
          "execution_count": 117
        }
      ]
    },
    {
      "cell_type": "code",
      "metadata": {
        "id": "C6rzLqo-sJuf",
        "colab_type": "code",
        "outputId": "72905343-4412-4b93-9524-c5e00a5667ac",
        "colab": {
          "base_uri": "https://localhost:8080/",
          "height": 34
        }
      },
      "source": [
        "#Determine si un año es bisiesto, ingresando el año\n",
        "def bisiesto(n):\n",
        "  if n%4==0:\n",
        "    if n%100==0:\n",
        "      if n%400==0:\n",
        "        print('El año es bisiesto')\n",
        "      else:\n",
        "        print('El año no es bisiesto')\n",
        "    else:\n",
        "      print('El año es bisiesto')\n",
        "  else:\n",
        "    print('El año no es bisiesto')\n",
        "bisiesto(1996)"
      ],
      "execution_count": 118,
      "outputs": [
        {
          "output_type": "stream",
          "text": [
            "El año es bisiesto\n"
          ],
          "name": "stdout"
        }
      ]
    },
    {
      "cell_type": "code",
      "metadata": {
        "id": "Pz19ujnPyE0O",
        "colab_type": "code",
        "outputId": "8fcd92be-bdea-4c66-c6b5-1dd64e734c1d",
        "colab": {
          "base_uri": "https://localhost:8080/",
          "height": 34
        }
      },
      "source": [
        "#Realizar una función que devuelva el volumen de una esfera a partir de su radio\n",
        "import math\n",
        "def vol_esfera(r):\n",
        "  vol_esfera=(4/3)*math.pi*r**3\n",
        "  return vol_esfera\n",
        "vol_esfera(1)\n"
      ],
      "execution_count": 115,
      "outputs": [
        {
          "output_type": "execute_result",
          "data": {
            "text/plain": [
              "4.1887902047863905"
            ]
          },
          "metadata": {
            "tags": []
          },
          "execution_count": 115
        }
      ]
    },
    {
      "cell_type": "code",
      "metadata": {
        "id": "skM3SPI5y5H_",
        "colab_type": "code",
        "outputId": "e80321a4-1dd7-4f13-daf4-80d262bd0ca8",
        "colab": {
          "base_uri": "https://localhost:8080/",
          "height": 153
        }
      },
      "source": [
        "#Realizar una función que devuelva lo siguiente, utilizando iteradores\n",
        "n=4\n",
        "for i in range(n,0,-1):\n",
        "  for j in range(i+1):\n",
        "    print(\"*\",end=\"\")\n",
        "  print(\"\")\n",
        "for i in range(n):\n",
        "  for j in range(i+2):\n",
        "    print(\"*\",end=\"\")\n",
        "  print(\"\")"
      ],
      "execution_count": 116,
      "outputs": [
        {
          "output_type": "stream",
          "text": [
            "*****\n",
            "****\n",
            "***\n",
            "**\n",
            "**\n",
            "***\n",
            "****\n",
            "*****\n"
          ],
          "name": "stdout"
        }
      ]
    },
    {
      "cell_type": "code",
      "metadata": {
        "id": "1ISwXO_d0hae",
        "colab_type": "code",
        "outputId": "b751fb33-d100-45c5-ecab-69b9d1114d2d",
        "colab": {
          "base_uri": "https://localhost:8080/",
          "height": 51
        }
      },
      "source": [
        "#Ingresar grados en número decimal y devuelva como string con minutos y segundos. (p.e. 73° 25' 44\")\n",
        "v=float(input(\"Ingrese decimal: \"))\n",
        "g=round(v)\n",
        "a=(v-round(v))*60\n",
        "m=int(a)\n",
        "s=(a-int(a))*60\n",
        "print(\"{}°{}´{}´´\".format(g,m,s))"
      ],
      "execution_count": 77,
      "outputs": [
        {
          "output_type": "stream",
          "text": [
            "Ingrese decimal: 23.094799\n",
            "23°5´41.276399999993885´´\n"
          ],
          "name": "stdout"
        }
      ]
    },
    {
      "cell_type": "code",
      "metadata": {
        "id": "--xqNT3tAKlg",
        "colab_type": "code",
        "outputId": "dabf8982-e981-4ae1-9e00-1982ece8e40e",
        "colab": {
          "base_uri": "https://localhost:8080/",
          "height": 85
        }
      },
      "source": [
        "#Realizar una función que pida la longitud de los tres lados de u triánguloy escriba si el triángulo existe o no.\n",
        "import math\n",
        "a=int(input(\"Ingresa lado: \" ))\n",
        "b=int(input(\"Ingresa lado: \" ))\n",
        "c=int(input(\"Ingresa lado: \" ))\n",
        "if((abs(a-c)<b)and(b<(a+c))):\n",
        " print(\"El triángulo existe\")\n",
        "else:\n",
        " print(\"El triángulo no existe\")"
      ],
      "execution_count": 119,
      "outputs": [
        {
          "output_type": "stream",
          "text": [
            "Ingresa lado: 1\n",
            "Ingresa lado: 8\n",
            "Ingresa lado: 9\n",
            "El triángulo no existe\n"
          ],
          "name": "stdout"
        }
      ]
    },
    {
      "cell_type": "code",
      "metadata": {
        "id": "H5aIVyN0C-cp",
        "colab_type": "code",
        "outputId": "9a0b89e7-8cdf-4a7a-f96c-a991734b70c9",
        "colab": {
          "base_uri": "https://localhost:8080/",
          "height": 102
        }
      },
      "source": [
        "#Realice una función que calcule la pendiente entre 2 puntos, teniendo las coordenadas\n",
        "def Pendiente(a1,b1,a2,b2):\n",
        "\tm = (b2-b1)/(a2-a1)\n",
        "\tprint('La pendiente de la recta es:', m)\n",
        "\n",
        "x1 = float(input('Punto x1:'))\n",
        "y1 = float(input('Punto y1:'))\n",
        "x2 = float(input('Punto x2:'))\n",
        "y2 = float(input('Punto y2:'))\n",
        "Pendiente(x1,y1,x2,y2)"
      ],
      "execution_count": 120,
      "outputs": [
        {
          "output_type": "stream",
          "text": [
            "Punto x1:5\n",
            "Punto y1:6\n",
            "Punto x2:-3\n",
            "Punto y2:4\n",
            "La pendiente de la recta es: 0.25\n"
          ],
          "name": "stdout"
        }
      ]
    },
    {
      "cell_type": "code",
      "metadata": {
        "id": "cBeTTCoHGPhp",
        "colab_type": "code",
        "colab": {
          "base_uri": "https://localhost:8080/",
          "height": 34
        },
        "outputId": "d19c1b84-d73e-4537-fefc-c1be01c660a0"
      },
      "source": [
        "#Desarrollar una funcion que pueda calcular la sumatoria para n numeros: 1^2+2^2+3^2+...+n^2\n",
        "def suma_cuadrados(n):\n",
        "  suma_cuadrados= abs(n*(n+1)*(2*n+1)/6)\n",
        "  return suma_cuadrados\n",
        "\n",
        "suma_cuadrados(10)"
      ],
      "execution_count": 121,
      "outputs": [
        {
          "output_type": "execute_result",
          "data": {
            "text/plain": [
              "385.0"
            ]
          },
          "metadata": {
            "tags": []
          },
          "execution_count": 121
        }
      ]
    },
    {
      "cell_type": "code",
      "metadata": {
        "id": "j7NS4BswwUs6",
        "colab_type": "code",
        "colab": {
          "base_uri": "https://localhost:8080/",
          "height": 34
        },
        "outputId": "ffdee57c-b7da-450d-93c5-0addd3705bc5"
      },
      "source": [
        "#Ordena la lista [(2,5),(1,2),(4,4),(2,3),(2,1)] por el segundo elemento de cada tupla\n",
        "def sort_Second(val):\n",
        "  return val[1]\n",
        "list=[(2,5),(1,2),(4,4),(2,3),(2,1)]\n",
        "list.sort(key=sort_Second)\n",
        "list.sort(key=sort_Second, reverse=True)\n",
        "print(list)"
      ],
      "execution_count": 122,
      "outputs": [
        {
          "output_type": "stream",
          "text": [
            "[(2, 5), (4, 4), (2, 3), (1, 2), (2, 1)]\n"
          ],
          "name": "stdout"
        }
      ]
    },
    {
      "cell_type": "code",
      "metadata": {
        "id": "-Tbf6_-XBejt",
        "colab_type": "code",
        "colab": {}
      },
      "source": [
        "#Leer el archivo \"ubigeos.json\" y realizar una función en la que ingresando el ubigeo, devuelva el nombre del departamento, provincia y distrito\n"
      ],
      "execution_count": 0,
      "outputs": []
    },
    {
      "cell_type": "code",
      "metadata": {
        "id": "2hI8jQKjCCFo",
        "colab_type": "code",
        "colab": {}
      },
      "source": [
        "#Leer el archivo \"departamentos.json\" y realizar una función en la que ingresando el nombre del departamento, devuelva la cantidad de provincias y distritos.\n"
      ],
      "execution_count": 0,
      "outputs": []
    }
  ]
}